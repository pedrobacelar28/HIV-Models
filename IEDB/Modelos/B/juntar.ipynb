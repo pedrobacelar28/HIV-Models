{
 "cells": [
  {
   "cell_type": "code",
   "execution_count": 2,
   "id": "1af96dbf",
   "metadata": {},
   "outputs": [
    {
     "name": "stdout",
     "output_type": "stream",
     "text": [
      "Arquivo mesclado salvo em: naoB.txt\n",
      "Total de sequências únicas: 182648\n"
     ]
    }
   ],
   "source": [
    "import os\n",
    "import glob\n",
    "\n",
    "def merge_txt_files(input_paths, output_path):\n",
    "    \"\"\"\n",
    "    Mescla múltiplos arquivos .txt mantendo o formato de uma sequência por linha.\n",
    "    \n",
    "    Args:\n",
    "        input_paths (list): Lista com os caminhos dos arquivos de entrada\n",
    "        output_path (str): Caminho para o arquivo de saída\n",
    "    \"\"\"\n",
    "    # Conjunto para armazenar sequências únicas\n",
    "    unique_sequences = set()\n",
    "    \n",
    "    # Ler cada arquivo e adicionar as sequências ao conjunto\n",
    "    for file_path in input_paths:\n",
    "        try:\n",
    "            with open(file_path, 'r') as file:\n",
    "                # Ler linha por linha, remover espaços em branco extras\n",
    "                for line in file:\n",
    "                    sequence = line.strip()\n",
    "                    if sequence:  # Ignorar linhas vazias\n",
    "                        unique_sequences.add(sequence)\n",
    "        except Exception as e:\n",
    "            print(f\"Erro ao ler o arquivo {file_path}: {e}\")\n",
    "    \n",
    "    # Escrever as sequências únicas no arquivo de saída\n",
    "    try:\n",
    "        with open(output_path, 'w') as output_file:\n",
    "            for sequence in sorted(unique_sequences):\n",
    "                output_file.write(f\"{sequence}\\n\")\n",
    "        print(f\"Arquivo mesclado salvo em: {output_path}\")\n",
    "        print(f\"Total de sequências únicas: {len(unique_sequences)}\")\n",
    "    except Exception as e:\n",
    "        print(f\"Erro ao escrever o arquivo de saída: {e}\")\n",
    "\n",
    "# Exemplo de uso\n",
    "if __name__ == \"__main__\":\n",
    "    # Lista com caminhos dos arquivos para mesclar\n",
    "    files_to_merge = [\n",
    "        \"naoBLent.txt\",\n",
    "        \"naoBRetro.txt\",\n",
    "        \"naoBVirus.txt\"\n",
    "    ]\n",
    "    \n",
    "    # Caminho para o arquivo de saída\n",
    "    output_file = \"naoB.txt\"\n",
    "    \n",
    "    # Executar a mesclagem\n",
    "    merge_txt_files(files_to_merge, output_file)"
   ]
  }
 ],
 "metadata": {
  "kernelspec": {
   "display_name": "hiv",
   "language": "python",
   "name": "python3"
  },
  "language_info": {
   "codemirror_mode": {
    "name": "ipython",
    "version": 3
   },
   "file_extension": ".py",
   "mimetype": "text/x-python",
   "name": "python",
   "nbconvert_exporter": "python",
   "pygments_lexer": "ipython3",
   "version": "3.12.2"
  }
 },
 "nbformat": 4,
 "nbformat_minor": 5
}
