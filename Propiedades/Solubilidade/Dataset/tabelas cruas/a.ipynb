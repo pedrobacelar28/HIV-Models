{
 "cells": [
  {
   "cell_type": "code",
   "execution_count": 3,
   "id": "4416a8cf",
   "metadata": {},
   "outputs": [],
   "source": [
    "import pandas as pd\n",
    "\n",
    "# 1) Defina aqui o caminho para o seu CSV\n",
    "csv_path = '/scratch/pedro.bacelar/HIV-Models/Propiedades/Solubilidade/Dataset/tabelas cruas/Planilha sem título - NESG.csv'\n",
    "\n",
    "# 2) Leia o CSV (ajuste separador se necessário, ex: sep=';' ou sep=',')\n",
    "df = pd.read_csv(csv_path)\n",
    "\n",
    "# 3) Abra os arquivos de saída\n",
    "with open('sim_NESG.txt', 'w', encoding='utf-8') as sim_file, \\\n",
    "     open('nao_NESG.txt', 'w', encoding='utf-8') as nao_file:\n",
    "\n",
    "    # 4) Itere pelas linhas\n",
    "    for seq, label in zip(df['Sequence'], df['Label']):\n",
    "        # Pule valores nulos\n",
    "        if pd.isna(label):\n",
    "            continue\n",
    "\n",
    "        # Verifique o valor de label\n",
    "        try:\n",
    "            lbl = int(label)\n",
    "        except ValueError:\n",
    "            # Se não for um inteiro válido, pule\n",
    "            continue\n",
    "\n",
    "        if lbl == 1:\n",
    "            sim_file.write(f\"{seq}\\n\")\n",
    "        elif lbl == 0:\n",
    "            nao_file.write(f\"{seq}\\n\")\n"
   ]
  }
 ],
 "metadata": {
  "kernelspec": {
   "display_name": "hiv",
   "language": "python",
   "name": "python3"
  },
  "language_info": {
   "codemirror_mode": {
    "name": "ipython",
    "version": 3
   },
   "file_extension": ".py",
   "mimetype": "text/x-python",
   "name": "python",
   "nbconvert_exporter": "python",
   "pygments_lexer": "ipython3",
   "version": "3.12.2"
  }
 },
 "nbformat": 4,
 "nbformat_minor": 5
}
